{
  "nbformat": 4,
  "nbformat_minor": 0,
  "metadata": {
    "colab": {
      "provenance": [],
      "gpuType": "V28",
      "toc_visible": true,
      "authorship_tag": "ABX9TyPp86ivYwKD8kNLyAdB/gHY",
      "include_colab_link": true
    },
    "kernelspec": {
      "name": "python3",
      "display_name": "Python 3"
    },
    "language_info": {
      "name": "python"
    },
    "accelerator": "TPU"
  },
  "cells": [
    {
      "cell_type": "markdown",
      "metadata": {
        "id": "view-in-github",
        "colab_type": "text"
      },
      "source": [
        "<a href=\"https://colab.research.google.com/github/DilushkumarVasu/NumPy/blob/main/FirstIntro.ipynb\" target=\"_parent\"><img src=\"https://colab.research.google.com/assets/colab-badge.svg\" alt=\"Open In Colab\"/></a>"
      ]
    },
    {
      "cell_type": "markdown",
      "source": [
        "# Arrays vs Lists"
      ],
      "metadata": {
        "id": "nbnJoHdCzPNB"
      }
    },
    {
      "cell_type": "code",
      "source": [
        "import numpy as np"
      ],
      "metadata": {
        "id": "EVFUrj4ozeVj"
      },
      "execution_count": null,
      "outputs": []
    },
    {
      "cell_type": "code",
      "source": [
        " L = [1,2,3]"
      ],
      "metadata": {
        "id": "hcwdavcCzlFa"
      },
      "execution_count": null,
      "outputs": []
    },
    {
      "cell_type": "code",
      "source": [
        "A = np.array([1,2,3])"
      ],
      "metadata": {
        "id": "f3bGJRpXz0jO"
      },
      "execution_count": null,
      "outputs": []
    },
    {
      "cell_type": "code",
      "source": [
        "for e in L:\n",
        "  print(e)"
      ],
      "metadata": {
        "colab": {
          "base_uri": "https://localhost:8080/"
        },
        "id": "jyD_Fkq-z9jA",
        "outputId": "74bfd142-5e33-405e-a93b-a62fd77ca1d7"
      },
      "execution_count": null,
      "outputs": [
        {
          "output_type": "stream",
          "name": "stdout",
          "text": [
            "1\n",
            "2\n",
            "3\n"
          ]
        }
      ]
    },
    {
      "cell_type": "code",
      "source": [
        "for item in A:\n",
        "  print(item)"
      ],
      "metadata": {
        "colab": {
          "base_uri": "https://localhost:8080/"
        },
        "id": "7MkyeuR50IGP",
        "outputId": "e35085f0-4a1c-4303-875d-83f77429e72a"
      },
      "execution_count": null,
      "outputs": [
        {
          "output_type": "stream",
          "name": "stdout",
          "text": [
            "1\n",
            "2\n",
            "3\n"
          ]
        }
      ]
    },
    {
      "cell_type": "code",
      "source": [
        "L.append(4)"
      ],
      "metadata": {
        "id": "wQaXPBWu0hVU"
      },
      "execution_count": null,
      "outputs": []
    },
    {
      "cell_type": "code",
      "source": [
        "L"
      ],
      "metadata": {
        "colab": {
          "base_uri": "https://localhost:8080/"
        },
        "id": "_ix30g320kuV",
        "outputId": "1303b3fa-a4f2-46b7-832e-c4ebe1d46c7d"
      },
      "execution_count": null,
      "outputs": [
        {
          "output_type": "execute_result",
          "data": {
            "text/plain": [
              "[1, 2, 3, 4]"
            ]
          },
          "metadata": {},
          "execution_count": 8
        }
      ]
    },
    {
      "cell_type": "code",
      "source": [
        "A.append(4)"
      ],
      "metadata": {
        "colab": {
          "base_uri": "https://localhost:8080/",
          "height": 141
        },
        "id": "T4sh_uHC0ro7",
        "outputId": "3cb0107d-f78b-4517-8d26-99342e370b51"
      },
      "execution_count": null,
      "outputs": [
        {
          "output_type": "error",
          "ename": "AttributeError",
          "evalue": "'numpy.ndarray' object has no attribute 'append'",
          "traceback": [
            "\u001b[0;31m---------------------------------------------------------------------------\u001b[0m",
            "\u001b[0;31mAttributeError\u001b[0m                            Traceback (most recent call last)",
            "\u001b[0;32m<ipython-input-11-a17c4d6940c3>\u001b[0m in \u001b[0;36m<cell line: 1>\u001b[0;34m()\u001b[0m\n\u001b[0;32m----> 1\u001b[0;31m \u001b[0mA\u001b[0m\u001b[0;34m.\u001b[0m\u001b[0mappend\u001b[0m\u001b[0;34m(\u001b[0m\u001b[0;36m4\u001b[0m\u001b[0;34m)\u001b[0m\u001b[0;34m\u001b[0m\u001b[0;34m\u001b[0m\u001b[0m\n\u001b[0m",
            "\u001b[0;31mAttributeError\u001b[0m: 'numpy.ndarray' object has no attribute 'append'"
          ]
        }
      ]
    },
    {
      "cell_type": "code",
      "source": [
        "L + [5]"
      ],
      "metadata": {
        "colab": {
          "base_uri": "https://localhost:8080/"
        },
        "id": "kkBMJWpN1Hca",
        "outputId": "40b25458-c3ec-4eb2-a01e-0489b6f5cefe"
      },
      "execution_count": null,
      "outputs": [
        {
          "output_type": "execute_result",
          "data": {
            "text/plain": [
              "[1, 2, 3, 4, 5]"
            ]
          },
          "metadata": {},
          "execution_count": 12
        }
      ]
    },
    {
      "cell_type": "code",
      "source": [
        "A + np.array([4])"
      ],
      "metadata": {
        "colab": {
          "base_uri": "https://localhost:8080/"
        },
        "id": "SXNgAaZD1OmJ",
        "outputId": "786fbba8-bd4f-40e9-d910-b7182c2e5459"
      },
      "execution_count": null,
      "outputs": [
        {
          "output_type": "execute_result",
          "data": {
            "text/plain": [
              "array([5, 6, 7])"
            ]
          },
          "metadata": {},
          "execution_count": 13
        }
      ]
    },
    {
      "cell_type": "code",
      "source": [
        "A + np.array([4,5,6])"
      ],
      "metadata": {
        "colab": {
          "base_uri": "https://localhost:8080/"
        },
        "id": "oEviELK81jNG",
        "outputId": "501d4db8-ffd2-4124-d08e-541d46e6694e"
      },
      "execution_count": null,
      "outputs": [
        {
          "output_type": "execute_result",
          "data": {
            "text/plain": [
              "array([5, 7, 9])"
            ]
          },
          "metadata": {},
          "execution_count": 14
        }
      ]
    },
    {
      "cell_type": "code",
      "source": [
        "A + np.array([4,5])"
      ],
      "metadata": {
        "colab": {
          "base_uri": "https://localhost:8080/",
          "height": 141
        },
        "id": "bBawa9121xta",
        "outputId": "6a662b87-c1e0-4615-d4a8-d4f770403d9c"
      },
      "execution_count": null,
      "outputs": [
        {
          "output_type": "error",
          "ename": "ValueError",
          "evalue": "operands could not be broadcast together with shapes (3,) (2,) ",
          "traceback": [
            "\u001b[0;31m---------------------------------------------------------------------------\u001b[0m",
            "\u001b[0;31mValueError\u001b[0m                                Traceback (most recent call last)",
            "\u001b[0;32m<ipython-input-15-2a83055a136d>\u001b[0m in \u001b[0;36m<cell line: 1>\u001b[0;34m()\u001b[0m\n\u001b[0;32m----> 1\u001b[0;31m \u001b[0mA\u001b[0m \u001b[0;34m+\u001b[0m \u001b[0mnp\u001b[0m\u001b[0;34m.\u001b[0m\u001b[0marray\u001b[0m\u001b[0;34m(\u001b[0m\u001b[0;34m[\u001b[0m\u001b[0;36m4\u001b[0m\u001b[0;34m,\u001b[0m\u001b[0;36m5\u001b[0m\u001b[0;34m]\u001b[0m\u001b[0;34m)\u001b[0m\u001b[0;34m\u001b[0m\u001b[0;34m\u001b[0m\u001b[0m\n\u001b[0m",
            "\u001b[0;31mValueError\u001b[0m: operands could not be broadcast together with shapes (3,) (2,) "
          ]
        }
      ]
    },
    {
      "cell_type": "code",
      "source": [
        "A * 2"
      ],
      "metadata": {
        "colab": {
          "base_uri": "https://localhost:8080/"
        },
        "id": "Qzfu-NLv2Dat",
        "outputId": "c385fe60-cee0-4e7b-aac8-7c9609b9a1a8"
      },
      "execution_count": null,
      "outputs": [
        {
          "output_type": "execute_result",
          "data": {
            "text/plain": [
              "array([2, 4, 6])"
            ]
          },
          "metadata": {},
          "execution_count": 16
        }
      ]
    },
    {
      "cell_type": "code",
      "source": [
        "L * 2"
      ],
      "metadata": {
        "colab": {
          "base_uri": "https://localhost:8080/"
        },
        "id": "pnyj7J1c3IDZ",
        "outputId": "3e32e7dc-e0d1-4405-be55-7a806503e592"
      },
      "execution_count": null,
      "outputs": [
        {
          "output_type": "execute_result",
          "data": {
            "text/plain": [
              "[1, 2, 3, 4, 1, 2, 3, 4]"
            ]
          },
          "metadata": {},
          "execution_count": 24
        }
      ]
    },
    {
      "cell_type": "code",
      "source": [
        "L + L"
      ],
      "metadata": {
        "colab": {
          "base_uri": "https://localhost:8080/"
        },
        "id": "DEkvy_ec4Iam",
        "outputId": "ca1dc923-b8af-4f15-ae89-70acf61152f7"
      },
      "execution_count": null,
      "outputs": [
        {
          "output_type": "execute_result",
          "data": {
            "text/plain": [
              "[1, 2, 3, 4, 1, 2, 3, 4]"
            ]
          },
          "metadata": {},
          "execution_count": 25
        }
      ]
    },
    {
      "cell_type": "code",
      "source": [
        "L2 = []\n",
        "for e in L:\n",
        "  L2.append(e + 3)"
      ],
      "metadata": {
        "id": "pHRqbPxv4L9u"
      },
      "execution_count": null,
      "outputs": []
    },
    {
      "cell_type": "code",
      "source": [
        "L2"
      ],
      "metadata": {
        "colab": {
          "base_uri": "https://localhost:8080/"
        },
        "id": "_1-4NnPZ4uCn",
        "outputId": "acc67911-7d05-4e8c-bdba-c50ca21b42dc"
      },
      "execution_count": null,
      "outputs": [
        {
          "output_type": "execute_result",
          "data": {
            "text/plain": [
              "[4, 5, 6, 7]"
            ]
          },
          "metadata": {},
          "execution_count": 29
        }
      ]
    },
    {
      "cell_type": "code",
      "source": [
        "L2 = [e + 3 for e in L]"
      ],
      "metadata": {
        "id": "m7X3eb3z5PwC"
      },
      "execution_count": null,
      "outputs": []
    },
    {
      "cell_type": "code",
      "source": [
        "L2"
      ],
      "metadata": {
        "colab": {
          "base_uri": "https://localhost:8080/"
        },
        "id": "nO61rZaA5YBU",
        "outputId": "d1299406-6dd6-424c-83b3-e626819db534"
      },
      "execution_count": null,
      "outputs": [
        {
          "output_type": "execute_result",
          "data": {
            "text/plain": [
              "[4, 5, 6, 7]"
            ]
          },
          "metadata": {},
          "execution_count": 33
        }
      ]
    },
    {
      "cell_type": "code",
      "source": [
        "L**2"
      ],
      "metadata": {
        "colab": {
          "base_uri": "https://localhost:8080/",
          "height": 141
        },
        "id": "wa8xCILf5cHo",
        "outputId": "706fee72-61cc-4c90-ec6d-d055784acd3b"
      },
      "execution_count": null,
      "outputs": [
        {
          "output_type": "error",
          "ename": "TypeError",
          "evalue": "unsupported operand type(s) for ** or pow(): 'list' and 'int'",
          "traceback": [
            "\u001b[0;31m---------------------------------------------------------------------------\u001b[0m",
            "\u001b[0;31mTypeError\u001b[0m                                 Traceback (most recent call last)",
            "\u001b[0;32m<ipython-input-34-99008242ace2>\u001b[0m in \u001b[0;36m<cell line: 1>\u001b[0;34m()\u001b[0m\n\u001b[0;32m----> 1\u001b[0;31m \u001b[0mL\u001b[0m\u001b[0;34m**\u001b[0m\u001b[0;36m2\u001b[0m\u001b[0;34m\u001b[0m\u001b[0;34m\u001b[0m\u001b[0m\n\u001b[0m",
            "\u001b[0;31mTypeError\u001b[0m: unsupported operand type(s) for ** or pow(): 'list' and 'int'"
          ]
        }
      ]
    },
    {
      "cell_type": "code",
      "source": [
        "L2 = [e**2 for e in L]\n",
        "L2"
      ],
      "metadata": {
        "colab": {
          "base_uri": "https://localhost:8080/"
        },
        "id": "XLU5CKA15gJF",
        "outputId": "faea9cab-0377-4fb1-c203-cfa016dd368d"
      },
      "execution_count": null,
      "outputs": [
        {
          "output_type": "execute_result",
          "data": {
            "text/plain": [
              "[1, 4, 9, 16]"
            ]
          },
          "metadata": {},
          "execution_count": 35
        }
      ]
    },
    {
      "cell_type": "code",
      "source": [
        "A**2"
      ],
      "metadata": {
        "colab": {
          "base_uri": "https://localhost:8080/"
        },
        "id": "Fo6u-kV05phC",
        "outputId": "5e2f1d9a-ed1b-42f1-c0b9-65692db8c251"
      },
      "execution_count": null,
      "outputs": [
        {
          "output_type": "execute_result",
          "data": {
            "text/plain": [
              "array([1, 4, 9])"
            ]
          },
          "metadata": {},
          "execution_count": 36
        }
      ]
    },
    {
      "cell_type": "code",
      "source": [
        "np.sqrt(A)"
      ],
      "metadata": {
        "colab": {
          "base_uri": "https://localhost:8080/"
        },
        "id": "wjm3Jwmm5xOS",
        "outputId": "161fee9c-b139-46d3-8e74-2285235a3fad"
      },
      "execution_count": null,
      "outputs": [
        {
          "output_type": "execute_result",
          "data": {
            "text/plain": [
              "array([1.        , 1.41421356, 1.73205081])"
            ]
          },
          "metadata": {},
          "execution_count": 37
        }
      ]
    },
    {
      "cell_type": "code",
      "source": [
        "np.log(A)"
      ],
      "metadata": {
        "colab": {
          "base_uri": "https://localhost:8080/"
        },
        "id": "ggvFexhU51SP",
        "outputId": "5e187aca-1237-44cb-ace8-0757ab6aa8af"
      },
      "execution_count": null,
      "outputs": [
        {
          "output_type": "execute_result",
          "data": {
            "text/plain": [
              "array([0.        , 0.69314718, 1.09861229])"
            ]
          },
          "metadata": {},
          "execution_count": 38
        }
      ]
    },
    {
      "cell_type": "code",
      "source": [
        "np.exp(A)"
      ],
      "metadata": {
        "colab": {
          "base_uri": "https://localhost:8080/"
        },
        "id": "Yv8p2A-z8ICz",
        "outputId": "f7784ef4-607d-43b8-864b-60f38252ca0a"
      },
      "execution_count": null,
      "outputs": [
        {
          "output_type": "execute_result",
          "data": {
            "text/plain": [
              "array([ 2.71828183,  7.3890561 , 20.08553692])"
            ]
          },
          "metadata": {},
          "execution_count": 39
        }
      ]
    },
    {
      "cell_type": "code",
      "source": [
        "np.tan(A)"
      ],
      "metadata": {
        "colab": {
          "base_uri": "https://localhost:8080/"
        },
        "id": "LRJ-rc1o8tLA",
        "outputId": "a837a1e0-2550-46f5-9a9e-fe17649f2509"
      },
      "execution_count": null,
      "outputs": [
        {
          "output_type": "execute_result",
          "data": {
            "text/plain": [
              "array([ 1.55740772, -2.18503986, -0.14254654])"
            ]
          },
          "metadata": {},
          "execution_count": 40
        }
      ]
    },
    {
      "cell_type": "code",
      "source": [
        "np.tanh(A)"
      ],
      "metadata": {
        "id": "FmxWKdFM82ME",
        "outputId": "dacda114-7a0b-4d80-dd8c-84097b26cc10",
        "colab": {
          "base_uri": "https://localhost:8080/"
        }
      },
      "execution_count": null,
      "outputs": [
        {
          "output_type": "execute_result",
          "data": {
            "text/plain": [
              "array([0.76159416, 0.96402758, 0.99505475])"
            ]
          },
          "metadata": {},
          "execution_count": 41
        }
      ]
    },
    {
      "cell_type": "markdown",
      "source": [
        "# Dot Product"
      ],
      "metadata": {
        "id": "3euJknmWHQrx"
      }
    },
    {
      "cell_type": "code",
      "source": [
        "import numpy as np"
      ],
      "metadata": {
        "id": "fcejG-haH9-r"
      },
      "execution_count": null,
      "outputs": []
    },
    {
      "cell_type": "code",
      "source": [
        "a = np.array([1,2])\n",
        "b = np.array([3,4])\n",
        "test = zip(a,b)\n",
        "print(list(test))"
      ],
      "metadata": {
        "colab": {
          "base_uri": "https://localhost:8080/"
        },
        "id": "x8XW3UHSHvap",
        "outputId": "ef8e9bd9-32c9-49e2-baa5-9e78db9fa7d6"
      },
      "execution_count": null,
      "outputs": [
        {
          "output_type": "stream",
          "name": "stdout",
          "text": [
            "[(1, 3), (2, 4)]\n"
          ]
        }
      ]
    },
    {
      "cell_type": "code",
      "source": [
        "dot = 0\n",
        "for e,f in zip(a,b):\n",
        "  dot += e * f\n",
        "dot"
      ],
      "metadata": {
        "colab": {
          "base_uri": "https://localhost:8080/"
        },
        "id": "MIOyi-MrH8fv",
        "outputId": "140520ed-a02a-4cb4-dcde-e136e051b9ab"
      },
      "execution_count": null,
      "outputs": [
        {
          "output_type": "execute_result",
          "data": {
            "text/plain": [
              "11"
            ]
          },
          "metadata": {},
          "execution_count": 4
        }
      ]
    },
    {
      "cell_type": "code",
      "source": [
        "dot = 0\n",
        "for i in range(len(a)):\n",
        "  dot += a[i]*b[i]\n",
        "dot"
      ],
      "metadata": {
        "colab": {
          "base_uri": "https://localhost:8080/"
        },
        "id": "MSzEwK5JTmb1",
        "outputId": "54f20bb8-6c32-43d8-bada-a8368f06f65f"
      },
      "execution_count": null,
      "outputs": [
        {
          "output_type": "execute_result",
          "data": {
            "text/plain": [
              "11"
            ]
          },
          "metadata": {},
          "execution_count": 5
        }
      ]
    },
    {
      "cell_type": "code",
      "source": [
        "a*b"
      ],
      "metadata": {
        "colab": {
          "base_uri": "https://localhost:8080/"
        },
        "id": "3h9jMBfdT8YO",
        "outputId": "b3d69536-82c9-49e8-892a-d9a4b0b13781"
      },
      "execution_count": null,
      "outputs": [
        {
          "output_type": "execute_result",
          "data": {
            "text/plain": [
              "array([3, 8])"
            ]
          },
          "metadata": {},
          "execution_count": 6
        }
      ]
    },
    {
      "cell_type": "code",
      "source": [
        "np.sum(a*b)"
      ],
      "metadata": {
        "colab": {
          "base_uri": "https://localhost:8080/"
        },
        "id": "cvRlaRSUUIEz",
        "outputId": "a7227aa5-d28a-42ae-e99a-d0f76ef9daca"
      },
      "execution_count": null,
      "outputs": [
        {
          "output_type": "execute_result",
          "data": {
            "text/plain": [
              "11"
            ]
          },
          "metadata": {},
          "execution_count": 7
        }
      ]
    },
    {
      "cell_type": "code",
      "source": [
        "(a*b).sum()"
      ],
      "metadata": {
        "colab": {
          "base_uri": "https://localhost:8080/"
        },
        "id": "gmIQxWDaUM5j",
        "outputId": "7b30a188-166a-48b1-8f63-836850a057b2"
      },
      "execution_count": null,
      "outputs": [
        {
          "output_type": "execute_result",
          "data": {
            "text/plain": [
              "11"
            ]
          },
          "metadata": {},
          "execution_count": 8
        }
      ]
    },
    {
      "cell_type": "code",
      "source": [
        "np.dot(a,b)"
      ],
      "metadata": {
        "colab": {
          "base_uri": "https://localhost:8080/"
        },
        "id": "wG3wrmRtURzF",
        "outputId": "cf678b0f-7b21-448b-e3ff-4579154c7fd8"
      },
      "execution_count": null,
      "outputs": [
        {
          "output_type": "execute_result",
          "data": {
            "text/plain": [
              "11"
            ]
          },
          "metadata": {},
          "execution_count": 9
        }
      ]
    },
    {
      "cell_type": "code",
      "source": [
        "a.dot(b)"
      ],
      "metadata": {
        "colab": {
          "base_uri": "https://localhost:8080/"
        },
        "id": "qalxuhp2UW10",
        "outputId": "a2a667f7-aaa4-4938-9dd0-5a37815bbcfb"
      },
      "execution_count": null,
      "outputs": [
        {
          "output_type": "execute_result",
          "data": {
            "text/plain": [
              "11"
            ]
          },
          "metadata": {},
          "execution_count": 10
        }
      ]
    },
    {
      "cell_type": "code",
      "source": [
        "a @ b"
      ],
      "metadata": {
        "colab": {
          "base_uri": "https://localhost:8080/"
        },
        "id": "-wfV9SZzUZj2",
        "outputId": "69db3eda-2f51-4ba2-8e0d-dfc28927ea15"
      },
      "execution_count": null,
      "outputs": [
        {
          "output_type": "execute_result",
          "data": {
            "text/plain": [
              "11"
            ]
          },
          "metadata": {},
          "execution_count": 11
        }
      ]
    },
    {
      "cell_type": "markdown",
      "source": [
        "\n",
        "![image.png](data:image/png;base64,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)"
      ],
      "metadata": {
        "id": "6-zg3wEgfa_L"
      }
    },
    {
      "cell_type": "code",
      "source": [
        "amag = np.sqrt((a*a).sum())"
      ],
      "metadata": {
        "id": "des4dK8ZWwoi"
      },
      "execution_count": null,
      "outputs": []
    },
    {
      "cell_type": "code",
      "source": [
        "amag"
      ],
      "metadata": {
        "colab": {
          "base_uri": "https://localhost:8080/"
        },
        "id": "nfH4VmTvXPEu",
        "outputId": "087ab79f-d774-4871-c19f-4002b3dd1f71"
      },
      "execution_count": null,
      "outputs": [
        {
          "output_type": "execute_result",
          "data": {
            "text/plain": [
              "2.23606797749979"
            ]
          },
          "metadata": {},
          "execution_count": 14
        }
      ]
    },
    {
      "cell_type": "code",
      "source": [
        "np.linalg.norm(a)"
      ],
      "metadata": {
        "colab": {
          "base_uri": "https://localhost:8080/"
        },
        "id": "wVdyx219XT9X",
        "outputId": "2212bdf8-93c3-4f90-cb31-562b1b0aa160"
      },
      "execution_count": null,
      "outputs": [
        {
          "output_type": "execute_result",
          "data": {
            "text/plain": [
              "2.23606797749979"
            ]
          },
          "metadata": {},
          "execution_count": 15
        }
      ]
    },
    {
      "cell_type": "code",
      "source": [
        "cosangle = a.dot(b) / (np.linalg.norm(a) * np.linalg.norm(b))"
      ],
      "metadata": {
        "id": "ZE2U22I3Xyz7"
      },
      "execution_count": null,
      "outputs": []
    },
    {
      "cell_type": "code",
      "source": [
        "cosangle"
      ],
      "metadata": {
        "colab": {
          "base_uri": "https://localhost:8080/"
        },
        "id": "pXEbP3UDYIcH",
        "outputId": "1a2a97b2-1ae1-4f99-fb53-1a765abdeb5d"
      },
      "execution_count": null,
      "outputs": [
        {
          "output_type": "execute_result",
          "data": {
            "text/plain": [
              "0.9838699100999074"
            ]
          },
          "metadata": {},
          "execution_count": 19
        }
      ]
    },
    {
      "cell_type": "code",
      "source": [
        "angle = np.arccos(cosangle)\n",
        "angle"
      ],
      "metadata": {
        "colab": {
          "base_uri": "https://localhost:8080/"
        },
        "id": "TZNwsBJvYmrd",
        "outputId": "ca244f08-8b66-4973-d887-5b5129526fcb"
      },
      "execution_count": null,
      "outputs": [
        {
          "output_type": "execute_result",
          "data": {
            "text/plain": [
              "0.17985349979247847"
            ]
          },
          "metadata": {},
          "execution_count": 20
        }
      ]
    },
    {
      "cell_type": "markdown",
      "source": [
        "#Speed Test"
      ],
      "metadata": {
        "id": "9F-UEFjdhfPy"
      }
    },
    {
      "cell_type": "code",
      "source": [
        "import numpy as np\n",
        "\n",
        "from datetime import datetime\n",
        "\n",
        "a = np.random.randn(100)\n",
        "b = np.random.randn(100)\n",
        "T = 100000\n",
        "\n",
        "def slow_dot_product(a,b):\n",
        "  result = 0\n",
        "  for e,f in zip(a,b):\n",
        "    result += e *f\n",
        "  return result\n",
        "\n",
        "t0 = datetime.now()\n",
        "for t in range(T):\n",
        "  slow_dot_product(a,b)\n",
        "dt1 = datetime.now() - t0\n",
        "print(dt1)\n",
        "\n",
        "t0 = datetime.now()\n",
        "for t in range(T):\n",
        "  a.dot(b)\n",
        "dt2 = datetime.now() - t0\n",
        "print(dt2)\n",
        "\n",
        "print(\"dt1 / dt2 :\",(dt1.total_seconds() / dt2.total_seconds()))\n",
        "\n"
      ],
      "metadata": {
        "colab": {
          "base_uri": "https://localhost:8080/"
        },
        "id": "ipzOyx68hnd-",
        "outputId": "7303e356-19f6-4b19-9553-c810d870e3d4"
      },
      "execution_count": null,
      "outputs": [
        {
          "output_type": "stream",
          "name": "stdout",
          "text": [
            "0:00:01.931780\n",
            "0:00:00.060680\n",
            "dt1 / dt2 : 31.835530652603826\n"
          ]
        }
      ]
    },
    {
      "cell_type": "markdown",
      "source": [
        "# Matrices"
      ],
      "metadata": {
        "id": "ceKEuK8dvQks"
      }
    },
    {
      "cell_type": "code",
      "source": [
        "L = [[1,2],[3,4]]\n",
        "L[0]\n"
      ],
      "metadata": {
        "colab": {
          "base_uri": "https://localhost:8080/"
        },
        "id": "64uwcWXFvYML",
        "outputId": "653caaa3-e945-45bb-a446-dd4225ef390e"
      },
      "execution_count": null,
      "outputs": [
        {
          "output_type": "execute_result",
          "data": {
            "text/plain": [
              "[1, 2]"
            ]
          },
          "metadata": {},
          "execution_count": 5
        }
      ]
    },
    {
      "cell_type": "code",
      "source": [
        "L[0][1]"
      ],
      "metadata": {
        "colab": {
          "base_uri": "https://localhost:8080/"
        },
        "id": "c8eUOHhLvzUc",
        "outputId": "d7d7d395-7e9c-4fb0-dffe-946b3911c56d"
      },
      "execution_count": null,
      "outputs": [
        {
          "output_type": "execute_result",
          "data": {
            "text/plain": [
              "2"
            ]
          },
          "metadata": {},
          "execution_count": 6
        }
      ]
    },
    {
      "cell_type": "code",
      "source": [
        "import numpy as np\n",
        "\n",
        "A = np.array([[1,2],[3,4]])\n",
        "A[0][1]\n"
      ],
      "metadata": {
        "colab": {
          "base_uri": "https://localhost:8080/"
        },
        "id": "wncUcLqFvwLz",
        "outputId": "5aa17b03-3ef6-4dfb-d1ef-7714a08588e8"
      },
      "execution_count": null,
      "outputs": [
        {
          "output_type": "execute_result",
          "data": {
            "text/plain": [
              "2"
            ]
          },
          "metadata": {},
          "execution_count": 7
        }
      ]
    },
    {
      "cell_type": "code",
      "source": [
        "A[0,1]\n"
      ],
      "metadata": {
        "colab": {
          "base_uri": "https://localhost:8080/"
        },
        "id": "fuiTp2yWv36j",
        "outputId": "8d0db71d-e6a9-4a2f-a119-c67baef63398"
      },
      "execution_count": null,
      "outputs": [
        {
          "output_type": "execute_result",
          "data": {
            "text/plain": [
              "2"
            ]
          },
          "metadata": {},
          "execution_count": 8
        }
      ]
    },
    {
      "cell_type": "code",
      "source": [
        "\n",
        "A[:,0] #select column of Matrix\n"
      ],
      "metadata": {
        "colab": {
          "base_uri": "https://localhost:8080/"
        },
        "id": "CUFX-lfrv51X",
        "outputId": "8b0d6188-ca07-4f01-8be3-df8568cfd15e"
      },
      "execution_count": null,
      "outputs": [
        {
          "output_type": "execute_result",
          "data": {
            "text/plain": [
              "array([1, 3])"
            ]
          },
          "metadata": {},
          "execution_count": 9
        }
      ]
    },
    {
      "cell_type": "code",
      "source": [
        "A.T #Transpose of A\n"
      ],
      "metadata": {
        "colab": {
          "base_uri": "https://localhost:8080/"
        },
        "id": "dp-v8C_tv8kt",
        "outputId": "1b27b85d-c420-4809-f69f-2294e69b80c3"
      },
      "execution_count": null,
      "outputs": [
        {
          "output_type": "execute_result",
          "data": {
            "text/plain": [
              "array([[1, 3],\n",
              "       [2, 4]])"
            ]
          },
          "metadata": {},
          "execution_count": 10
        }
      ]
    },
    {
      "cell_type": "code",
      "source": [
        "np.exp(A)\n"
      ],
      "metadata": {
        "colab": {
          "base_uri": "https://localhost:8080/"
        },
        "id": "LuAVzF-_wCit",
        "outputId": "b646f283-aa27-404f-e375-baca60ca8961"
      },
      "execution_count": null,
      "outputs": [
        {
          "output_type": "execute_result",
          "data": {
            "text/plain": [
              "array([[ 2.71828183,  7.3890561 ],\n",
              "       [20.08553692, 54.59815003]])"
            ]
          },
          "metadata": {},
          "execution_count": 11
        }
      ]
    },
    {
      "cell_type": "code",
      "source": [
        "np.exp(L)"
      ],
      "metadata": {
        "colab": {
          "base_uri": "https://localhost:8080/"
        },
        "id": "owdMaLhywEyM",
        "outputId": "c239c19d-8a09-4f5f-e81f-c6370b8cb9a1"
      },
      "execution_count": null,
      "outputs": [
        {
          "output_type": "execute_result",
          "data": {
            "text/plain": [
              "array([[ 2.71828183,  7.3890561 ],\n",
              "       [20.08553692, 54.59815003]])"
            ]
          },
          "metadata": {},
          "execution_count": 12
        }
      ]
    },
    {
      "cell_type": "code",
      "source": [
        "B = np.array([[1,2,3],[4,5,6]])\n",
        "B"
      ],
      "metadata": {
        "colab": {
          "base_uri": "https://localhost:8080/"
        },
        "id": "TaNY96JmwJ8r",
        "outputId": "e1d048f0-8f40-4aad-b61f-5e8ad6b12a11"
      },
      "execution_count": null,
      "outputs": [
        {
          "output_type": "execute_result",
          "data": {
            "text/plain": [
              "array([[1, 2, 3],\n",
              "       [4, 5, 6]])"
            ]
          },
          "metadata": {},
          "execution_count": 13
        }
      ]
    },
    {
      "cell_type": "code",
      "source": [
        "A.dot(B)"
      ],
      "metadata": {
        "colab": {
          "base_uri": "https://localhost:8080/"
        },
        "id": "t1v24eQDwa1K",
        "outputId": "670888d6-3ab8-4abf-ad1b-068ae670cc27"
      },
      "execution_count": null,
      "outputs": [
        {
          "output_type": "execute_result",
          "data": {
            "text/plain": [
              "array([[ 9, 12, 15],\n",
              "       [19, 26, 33]])"
            ]
          },
          "metadata": {},
          "execution_count": 14
        }
      ]
    },
    {
      "cell_type": "code",
      "source": [
        "A*B #element wise mutiplication--> not same as Matrice multiplication"
      ],
      "metadata": {
        "colab": {
          "base_uri": "https://localhost:8080/",
          "height": 141
        },
        "id": "LNiheYrjwden",
        "outputId": "17311189-c2fa-450b-890a-7d4e54977641"
      },
      "execution_count": null,
      "outputs": [
        {
          "output_type": "error",
          "ename": "ValueError",
          "evalue": "operands could not be broadcast together with shapes (2,2) (2,3) ",
          "traceback": [
            "\u001b[0;31m---------------------------------------------------------------------------\u001b[0m",
            "\u001b[0;31mValueError\u001b[0m                                Traceback (most recent call last)",
            "\u001b[0;32m<ipython-input-15-47896efed660>\u001b[0m in \u001b[0;36m<cell line: 1>\u001b[0;34m()\u001b[0m\n\u001b[0;32m----> 1\u001b[0;31m \u001b[0mA\u001b[0m\u001b[0;34m*\u001b[0m\u001b[0mB\u001b[0m\u001b[0;34m\u001b[0m\u001b[0;34m\u001b[0m\u001b[0m\n\u001b[0m",
            "\u001b[0;31mValueError\u001b[0m: operands could not be broadcast together with shapes (2,2) (2,3) "
          ]
        }
      ]
    },
    {
      "cell_type": "code",
      "source": [
        "B.T.dot(A)"
      ],
      "metadata": {
        "colab": {
          "base_uri": "https://localhost:8080/"
        },
        "id": "M_JZhIH-w_PH",
        "outputId": "72d8e4a4-7646-420a-886e-e8383314eb7f"
      },
      "execution_count": null,
      "outputs": [
        {
          "output_type": "execute_result",
          "data": {
            "text/plain": [
              "array([[13, 18],\n",
              "       [17, 24],\n",
              "       [21, 30]])"
            ]
          },
          "metadata": {},
          "execution_count": 17
        }
      ]
    },
    {
      "cell_type": "code",
      "source": [
        "A.dot(B.T)"
      ],
      "metadata": {
        "colab": {
          "base_uri": "https://localhost:8080/",
          "height": 141
        },
        "id": "NoqnmGtWxeDt",
        "outputId": "c241d1cf-a75c-4802-f0b1-9d3ea7932ba6"
      },
      "execution_count": null,
      "outputs": [
        {
          "output_type": "error",
          "ename": "ValueError",
          "evalue": "shapes (2,2) and (3,2) not aligned: 2 (dim 1) != 3 (dim 0)",
          "traceback": [
            "\u001b[0;31m---------------------------------------------------------------------------\u001b[0m",
            "\u001b[0;31mValueError\u001b[0m                                Traceback (most recent call last)",
            "\u001b[0;32m<ipython-input-18-80d79729e8e6>\u001b[0m in \u001b[0;36m<cell line: 1>\u001b[0;34m()\u001b[0m\n\u001b[0;32m----> 1\u001b[0;31m \u001b[0mA\u001b[0m\u001b[0;34m.\u001b[0m\u001b[0mdot\u001b[0m\u001b[0;34m(\u001b[0m\u001b[0mB\u001b[0m\u001b[0;34m.\u001b[0m\u001b[0mT\u001b[0m\u001b[0;34m)\u001b[0m\u001b[0;34m\u001b[0m\u001b[0;34m\u001b[0m\u001b[0m\n\u001b[0m",
            "\u001b[0;31mValueError\u001b[0m: shapes (2,2) and (3,2) not aligned: 2 (dim 1) != 3 (dim 0)"
          ]
        }
      ]
    },
    {
      "cell_type": "code",
      "source": [
        "np.linalg.det(A)"
      ],
      "metadata": {
        "colab": {
          "base_uri": "https://localhost:8080/"
        },
        "id": "NiGzFgsNxqTt",
        "outputId": "004b866b-09e5-473e-a495-d8566a3d3673"
      },
      "execution_count": null,
      "outputs": [
        {
          "output_type": "execute_result",
          "data": {
            "text/plain": [
              "-2.0000000000000004"
            ]
          },
          "metadata": {},
          "execution_count": 19
        }
      ]
    },
    {
      "cell_type": "code",
      "source": [
        "np.linalg.inv(A)"
      ],
      "metadata": {
        "colab": {
          "base_uri": "https://localhost:8080/"
        },
        "id": "iV_tKkcmzBT-",
        "outputId": "d20d018f-aec9-42db-b83f-21a51cdd2b0b"
      },
      "execution_count": null,
      "outputs": [
        {
          "output_type": "execute_result",
          "data": {
            "text/plain": [
              "array([[-2. ,  1. ],\n",
              "       [ 1.5, -0.5]])"
            ]
          },
          "metadata": {},
          "execution_count": 20
        }
      ]
    },
    {
      "cell_type": "code",
      "source": [
        "np.linalg.inv(A).dot(A)"
      ],
      "metadata": {
        "colab": {
          "base_uri": "https://localhost:8080/"
        },
        "id": "6_kFftL8zUxX",
        "outputId": "1ff810b3-16db-4dbc-ddf0-2f08a35bb17c"
      },
      "execution_count": null,
      "outputs": [
        {
          "output_type": "execute_result",
          "data": {
            "text/plain": [
              "array([[1.00000000e+00, 0.00000000e+00],\n",
              "       [1.11022302e-16, 1.00000000e+00]])"
            ]
          },
          "metadata": {},
          "execution_count": 21
        }
      ]
    },
    {
      "cell_type": "code",
      "source": [
        "A.dot(np.linalg.inv(A))"
      ],
      "metadata": {
        "colab": {
          "base_uri": "https://localhost:8080/"
        },
        "id": "TrYRw7-oziXH",
        "outputId": "2f68662a-510f-421f-aa96-2b5aca6ad090"
      },
      "execution_count": null,
      "outputs": [
        {
          "output_type": "execute_result",
          "data": {
            "text/plain": [
              "array([[1.0000000e+00, 0.0000000e+00],\n",
              "       [8.8817842e-16, 1.0000000e+00]])"
            ]
          },
          "metadata": {},
          "execution_count": 22
        }
      ]
    },
    {
      "cell_type": "code",
      "source": [
        "np.trace(A)"
      ],
      "metadata": {
        "colab": {
          "base_uri": "https://localhost:8080/"
        },
        "id": "SKzy6ZoNz_tN",
        "outputId": "7b7e4491-3048-494b-a094-60365d10ec94"
      },
      "execution_count": null,
      "outputs": [
        {
          "output_type": "execute_result",
          "data": {
            "text/plain": [
              "5"
            ]
          },
          "metadata": {},
          "execution_count": 23
        }
      ]
    },
    {
      "cell_type": "code",
      "source": [
        "np.diag(A)"
      ],
      "metadata": {
        "colab": {
          "base_uri": "https://localhost:8080/"
        },
        "id": "IH6vySR_0QtV",
        "outputId": "10f5cb6d-3e3d-4350-d5b7-49d95ae32a7a"
      },
      "execution_count": null,
      "outputs": [
        {
          "output_type": "execute_result",
          "data": {
            "text/plain": [
              "array([1, 4])"
            ]
          },
          "metadata": {},
          "execution_count": 26
        }
      ]
    },
    {
      "cell_type": "code",
      "source": [
        "np.diag([1,4])#diag matric overloaded-->if we put matice->result will be vector and viceversa also acceptable"
      ],
      "metadata": {
        "colab": {
          "base_uri": "https://localhost:8080/"
        },
        "id": "ZgrwCUEM1PPZ",
        "outputId": "1b63b761-2dfe-42aa-f13f-bf357b60d3dc"
      },
      "execution_count": null,
      "outputs": [
        {
          "output_type": "execute_result",
          "data": {
            "text/plain": [
              "array([[1, 0],\n",
              "       [0, 4]])"
            ]
          },
          "metadata": {},
          "execution_count": 27
        }
      ]
    },
    {
      "cell_type": "code",
      "source": [
        "np.linalg.eig(A)#Av=λv and (A−λI)v=0"
      ],
      "metadata": {
        "colab": {
          "base_uri": "https://localhost:8080/"
        },
        "id": "5UsGGgLk1rTH",
        "outputId": "8e0ba9c8-c390-48c5-b47d-83d37f2efb9a"
      },
      "execution_count": null,
      "outputs": [
        {
          "output_type": "execute_result",
          "data": {
            "text/plain": [
              "EigResult(eigenvalues=array([-0.37228132,  5.37228132]), eigenvectors=array([[-0.82456484, -0.41597356],\n",
              "       [ 0.56576746, -0.90937671]]))"
            ]
          },
          "metadata": {},
          "execution_count": 29
        }
      ]
    },
    {
      "cell_type": "code",
      "source": [
        "Lam, V = np.linalg.eig(A)\n",
        "Lam"
      ],
      "metadata": {
        "colab": {
          "base_uri": "https://localhost:8080/"
        },
        "id": "bx14ppJT3aEW",
        "outputId": "bd3e2f2d-754b-4035-9487-0128ab2e50a3"
      },
      "execution_count": null,
      "outputs": [
        {
          "output_type": "execute_result",
          "data": {
            "text/plain": [
              "array([-0.37228132,  5.37228132])"
            ]
          },
          "metadata": {},
          "execution_count": 32
        }
      ]
    },
    {
      "cell_type": "code",
      "source": [
        "V"
      ],
      "metadata": {
        "colab": {
          "base_uri": "https://localhost:8080/"
        },
        "id": "05dIoSp54geF",
        "outputId": "95dc190d-1dd3-4987-d414-4a75b528bea7"
      },
      "execution_count": null,
      "outputs": [
        {
          "output_type": "execute_result",
          "data": {
            "text/plain": [
              "array([[-0.82456484, -0.41597356],\n",
              "       [ 0.56576746, -0.90937671]])"
            ]
          },
          "metadata": {},
          "execution_count": 33
        }
      ]
    },
    {
      "cell_type": "code",
      "source": [
        "V[:,0]"
      ],
      "metadata": {
        "colab": {
          "base_uri": "https://localhost:8080/"
        },
        "id": "HyIvOTii4mav",
        "outputId": "532512e5-02bb-45bb-838d-fb8f8460e80a"
      },
      "execution_count": null,
      "outputs": [
        {
          "output_type": "execute_result",
          "data": {
            "text/plain": [
              "array([-0.82456484,  0.56576746])"
            ]
          },
          "metadata": {},
          "execution_count": 34
        }
      ]
    },
    {
      "cell_type": "code",
      "source": [
        "Lam[0]"
      ],
      "metadata": {
        "colab": {
          "base_uri": "https://localhost:8080/"
        },
        "id": "AfjcLcgs4tNe",
        "outputId": "e84f8446-66f6-4591-8b13-0ed14480dfa0"
      },
      "execution_count": null,
      "outputs": [
        {
          "output_type": "execute_result",
          "data": {
            "text/plain": [
              "-0.3722813232690143"
            ]
          },
          "metadata": {},
          "execution_count": 35
        }
      ]
    },
    {
      "cell_type": "code",
      "source": [
        "V[:,0]*Lam[0] == A @ V[:,0]"
      ],
      "metadata": {
        "colab": {
          "base_uri": "https://localhost:8080/"
        },
        "id": "kOvEwONi41iu",
        "outputId": "afde8d7c-178e-4410-f99d-f3a20ebd2f1e"
      },
      "execution_count": null,
      "outputs": [
        {
          "output_type": "execute_result",
          "data": {
            "text/plain": [
              "array([ True, False])"
            ]
          },
          "metadata": {},
          "execution_count": 38
        }
      ]
    },
    {
      "cell_type": "code",
      "source": [
        "V[:,0]*Lam[0] , A @ V[:,0]"
      ],
      "metadata": {
        "colab": {
          "base_uri": "https://localhost:8080/"
        },
        "id": "q3zpG8yz5SOY",
        "outputId": "3be416c1-374c-4731-e36d-04eccafc8789"
      },
      "execution_count": null,
      "outputs": [
        {
          "output_type": "execute_result",
          "data": {
            "text/plain": [
              "(array([ 0.30697009, -0.21062466]), array([ 0.30697009, -0.21062466]))"
            ]
          },
          "metadata": {},
          "execution_count": 39
        }
      ]
    },
    {
      "cell_type": "code",
      "source": [
        "np.allclose(V[:,0]*Lam[0] , A @ V[:,0])"
      ],
      "metadata": {
        "colab": {
          "base_uri": "https://localhost:8080/"
        },
        "id": "XKzFhIfo5aLH",
        "outputId": "38088360-cb4d-4011-e306-a9c2405543a3"
      },
      "execution_count": null,
      "outputs": [
        {
          "output_type": "execute_result",
          "data": {
            "text/plain": [
              "True"
            ]
          },
          "metadata": {},
          "execution_count": 41
        }
      ]
    },
    {
      "cell_type": "code",
      "source": [
        "np.diag(Lam)"
      ],
      "metadata": {
        "colab": {
          "base_uri": "https://localhost:8080/"
        },
        "id": "9YQpqSxd5lHb",
        "outputId": "aee6d109-196c-41af-be39-7652fc6d2349"
      },
      "execution_count": null,
      "outputs": [
        {
          "output_type": "execute_result",
          "data": {
            "text/plain": [
              "array([[-0.37228132,  0.        ],\n",
              "       [ 0.        ,  5.37228132]])"
            ]
          },
          "metadata": {},
          "execution_count": 42
        }
      ]
    },
    {
      "cell_type": "code",
      "source": [
        "np.allclose(V @ np.diag(Lam),A @ V)"
      ],
      "metadata": {
        "colab": {
          "base_uri": "https://localhost:8080/"
        },
        "id": "11wXx4N_6B5s",
        "outputId": "ef4ce556-d117-4e85-9da8-fb51befbe796"
      },
      "execution_count": null,
      "outputs": [
        {
          "output_type": "execute_result",
          "data": {
            "text/plain": [
              "True"
            ]
          },
          "metadata": {},
          "execution_count": 43
        }
      ]
    },
    {
      "cell_type": "markdown",
      "source": [
        "# Solving Linear System"
      ],
      "metadata": {
        "id": "E1jVD_LX0T_y"
      }
    },
    {
      "cell_type": "code",
      "source": [
        "import numpy as np"
      ],
      "metadata": {
        "id": "psk9ErRQ0YtQ"
      },
      "execution_count": 1,
      "outputs": []
    },
    {
      "cell_type": "code",
      "source": [
        "A = np.array([[1,1],[1.5,4]])\n",
        "A"
      ],
      "metadata": {
        "colab": {
          "base_uri": "https://localhost:8080/"
        },
        "id": "KYuZGC5Z0dBA",
        "outputId": "60678696-7b11-493a-efc4-647b44cabe0d"
      },
      "execution_count": 3,
      "outputs": [
        {
          "output_type": "execute_result",
          "data": {
            "text/plain": [
              "array([[1. , 1. ],\n",
              "       [1.5, 4. ]])"
            ]
          },
          "metadata": {},
          "execution_count": 3
        }
      ]
    },
    {
      "cell_type": "code",
      "source": [
        "b = np.array([[2200],[5050]])"
      ],
      "metadata": {
        "id": "75HVHgvJ1EGQ"
      },
      "execution_count": 25,
      "outputs": []
    },
    {
      "cell_type": "code",
      "source": [
        "b"
      ],
      "metadata": {
        "colab": {
          "base_uri": "https://localhost:8080/"
        },
        "id": "OmoBdMrv1Oye",
        "outputId": "4c608cf5-8a5b-4630-e9ed-624795e07822"
      },
      "execution_count": 26,
      "outputs": [
        {
          "output_type": "execute_result",
          "data": {
            "text/plain": [
              "array([[2200],\n",
              "       [5050]])"
            ]
          },
          "metadata": {},
          "execution_count": 26
        }
      ]
    },
    {
      "cell_type": "code",
      "source": [
        "x = np.linalg.inv(A).dot(b)"
      ],
      "metadata": {
        "id": "lJDoxwkf1jyT"
      },
      "execution_count": 28,
      "outputs": []
    },
    {
      "cell_type": "code",
      "source": [
        "x"
      ],
      "metadata": {
        "colab": {
          "base_uri": "https://localhost:8080/"
        },
        "id": "exe6TY1z3bvm",
        "outputId": "18097440-e11a-4e6c-87f6-38c45b4ce282"
      },
      "execution_count": 29,
      "outputs": [
        {
          "output_type": "execute_result",
          "data": {
            "text/plain": [
              "array([[1500.],\n",
              "       [ 700.]])"
            ]
          },
          "metadata": {},
          "execution_count": 29
        }
      ]
    },
    {
      "cell_type": "code",
      "source": [
        "x = np.linalg.solve(A,b)"
      ],
      "metadata": {
        "id": "VwqEzBes3y0y"
      },
      "execution_count": 30,
      "outputs": []
    },
    {
      "cell_type": "code",
      "source": [
        "x"
      ],
      "metadata": {
        "colab": {
          "base_uri": "https://localhost:8080/"
        },
        "id": "sDUTHhvx38VH",
        "outputId": "c3af7880-e712-4fd4-c70c-b07507f16491"
      },
      "execution_count": 31,
      "outputs": [
        {
          "output_type": "execute_result",
          "data": {
            "text/plain": [
              "array([[1500.],\n",
              "       [ 700.]])"
            ]
          },
          "metadata": {},
          "execution_count": 31
        }
      ]
    }
  ]
}